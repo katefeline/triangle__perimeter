{
  "nbformat": 4,
  "nbformat_minor": 0,
  "metadata": {
    "colab": {
      "name": "периметр треугольника по вершинам.ipynb",
      "provenance": [],
      "authorship_tag": "ABX9TyNxLS2Lctng0qigm0qZtr66"
    },
    "kernelspec": {
      "name": "python3",
      "display_name": "Python 3"
    },
    "language_info": {
      "name": "python"
    }
  },
  "cells": [
    {
      "cell_type": "code",
      "metadata": {
        "id": "KPa3cxlXvQH1"
      },
      "source": [
        "from math import sqrt\n",
        "\n",
        "\n",
        "def perimetr(x1, y1, x2, y2, x3, y3):\n",
        "    ab = (x1 - x2) ** 2 + (y1 - y2) ** 2\n",
        "    sqrtab = sqrt(ab)\n",
        "    bc = (x2 - x3) ** 2 + (y2 - y3) ** 2\n",
        "    sqrtbc = sqrt(bc)\n",
        "    ac = (x1 - x3) ** 2 + (y1 - y3) ** 2\n",
        "    sqrtac = sqrt(ac)\n",
        "    per = sqrtbc + sqrtac + sqrtab\n",
        "    per = float('{:.10f}'.format(per))\n",
        "    return per\n",
        "\n",
        "\n",
        "x1, y1 = int(input()), int(input())\n",
        "x2, y2 = int(input()), int(input())\n",
        "x3, y3 = int(input()), int(input())\n",
        "\n",
        "print(perimetr(x1, y1, x2, y2, x3, y3))\n"
      ],
      "execution_count": null,
      "outputs": []
    }
  ]
}